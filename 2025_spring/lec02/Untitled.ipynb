{
 "cells": [
  {
   "cell_type": "code",
   "execution_count": 2,
   "id": "a61f9069-032d-4b78-86a9-d743115126f4",
   "metadata": {},
   "outputs": [],
   "source": [
    "import my_first_script"
   ]
  },
  {
   "cell_type": "code",
   "execution_count": 3,
   "id": "1f47dd7a-5349-47d2-a577-636e237c1b67",
   "metadata": {},
   "outputs": [
    {
     "name": "stdout",
     "output_type": "stream",
     "text": [
      "Hello world\n"
     ]
    },
    {
     "data": {
      "text/plain": [
       "<module 'my_first_script' from 'C:\\\\Users\\\\User\\\\Documents\\\\GitHub\\\\intro_speech_understanding\\\\2025_spring\\\\lec02\\\\my_first_script.py'>"
      ]
     },
     "execution_count": 3,
     "metadata": {},
     "output_type": "execute_result"
    }
   ],
   "source": [
    "import importlib\n",
    "importlib.reload(my_first_script)"
   ]
  },
  {
   "cell_type": "code",
   "execution_count": null,
   "id": "6be5e9fc-d9ff-4bee-8323-7a14a16212ee",
   "metadata": {},
   "outputs": [],
   "source": []
  }
 ],
 "metadata": {
  "kernelspec": {
   "display_name": "Python [conda env:base] *",
   "language": "python",
   "name": "conda-base-py"
  },
  "language_info": {
   "codemirror_mode": {
    "name": "ipython",
    "version": 3
   },
   "file_extension": ".py",
   "mimetype": "text/x-python",
   "name": "python",
   "nbconvert_exporter": "python",
   "pygments_lexer": "ipython3",
   "version": "3.13.5"
  }
 },
 "nbformat": 4,
 "nbformat_minor": 5
}
